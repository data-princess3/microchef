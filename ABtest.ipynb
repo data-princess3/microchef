{
 "cells": [
  {
   "cell_type": "code",
   "execution_count": 3,
   "id": "51342f97-0bbd-477a-bf56-b541657dfda2",
   "metadata": {
    "tags": []
   },
   "outputs": [
    {
     "data": {
      "text/html": [
       "<div>\n",
       "<style scoped>\n",
       "    .dataframe tbody tr th:only-of-type {\n",
       "        vertical-align: middle;\n",
       "    }\n",
       "\n",
       "    .dataframe tbody tr th {\n",
       "        vertical-align: top;\n",
       "    }\n",
       "\n",
       "    .dataframe thead th {\n",
       "        text-align: right;\n",
       "    }\n",
       "</style>\n",
       "<table border=\"1\" class=\"dataframe\">\n",
       "  <thead>\n",
       "    <tr style=\"text-align: right;\">\n",
       "      <th></th>\n",
       "      <th>user_id</th>\n",
       "      <th>timestamp</th>\n",
       "      <th>test_group</th>\n",
       "      <th>conversion</th>\n",
       "    </tr>\n",
       "  </thead>\n",
       "  <tbody>\n",
       "    <tr>\n",
       "      <th>0</th>\n",
       "      <td>7f6833e6-1141-4f20-b4b2-f1e31019b1fd</td>\n",
       "      <td>2023-07-04 04:40:55.848109</td>\n",
       "      <td>a</td>\n",
       "      <td>0</td>\n",
       "    </tr>\n",
       "    <tr>\n",
       "      <th>1</th>\n",
       "      <td>e6a6e960-d3f3-4074-a516-ba1e609b211e</td>\n",
       "      <td>2023-07-06 00:26:45.486187</td>\n",
       "      <td>b</td>\n",
       "      <td>0</td>\n",
       "    </tr>\n",
       "    <tr>\n",
       "      <th>2</th>\n",
       "      <td>4d3fbfa5-6847-410a-bac2-477f01d5f400</td>\n",
       "      <td>2023-07-10 20:24:33.639464</td>\n",
       "      <td>b</td>\n",
       "      <td>0</td>\n",
       "    </tr>\n",
       "    <tr>\n",
       "      <th>3</th>\n",
       "      <td>361457d9-a044-48f7-981c-d67dc3861679</td>\n",
       "      <td>2023-07-20 07:04:49.957013</td>\n",
       "      <td>b</td>\n",
       "      <td>0</td>\n",
       "    </tr>\n",
       "    <tr>\n",
       "      <th>4</th>\n",
       "      <td>285cd63d-7d03-427f-a062-1fa2dd2e77d6</td>\n",
       "      <td>2023-07-19 23:27:50.116680</td>\n",
       "      <td>b</td>\n",
       "      <td>0</td>\n",
       "    </tr>\n",
       "  </tbody>\n",
       "</table>\n",
       "</div>"
      ],
      "text/plain": [
       "                                user_id                   timestamp  \\\n",
       "0  7f6833e6-1141-4f20-b4b2-f1e31019b1fd  2023-07-04 04:40:55.848109   \n",
       "1  e6a6e960-d3f3-4074-a516-ba1e609b211e  2023-07-06 00:26:45.486187   \n",
       "2  4d3fbfa5-6847-410a-bac2-477f01d5f400  2023-07-10 20:24:33.639464   \n",
       "3  361457d9-a044-48f7-981c-d67dc3861679  2023-07-20 07:04:49.957013   \n",
       "4  285cd63d-7d03-427f-a062-1fa2dd2e77d6  2023-07-19 23:27:50.116680   \n",
       "\n",
       "  test_group  conversion  \n",
       "0          a           0  \n",
       "1          b           0  \n",
       "2          b           0  \n",
       "3          b           0  \n",
       "4          b           0  "
      ]
     },
     "execution_count": 3,
     "metadata": {},
     "output_type": "execute_result"
    }
   ],
   "source": [
    "import pandas as pd\n",
    "\n",
    "df = pd.read_csv('/Users/adminsha/Downloads/ab_test_data.csv')\n",
    "df.head()"
   ]
  },
  {
   "cell_type": "code",
   "execution_count": 7,
   "id": "1fb83374-b875-4ac6-bebf-e6e16b1c7918",
   "metadata": {
    "tags": []
   },
   "outputs": [
    {
     "name": "stdout",
     "output_type": "stream",
     "text": [
      "  test_group  user_count  conversions  conversion_rate\n",
      "0          a       10013          611         6.102067\n",
      "1          b        9985          889         8.903355\n"
     ]
    }
   ],
   "source": [
    "a_data = pd.DataFrame(df)\n",
    "result = df.groupby('test_group').agg(\n",
    "    user_count=('user_id', 'count'),\n",
    "    conversions=('conversion', 'sum'),\n",
    "    conversion_rate=('conversion', 'mean')\n",
    ").reset_index()\n",
    "result['conversion_rate'] = result['conversion_rate'] * 100\n",
    "print(result)"
   ]
  },
  {
   "cell_type": "code",
   "execution_count": 8,
   "id": "e6b8bd28-d86d-42e6-bf5e-8687169310c2",
   "metadata": {
    "tags": []
   },
   "outputs": [
    {
     "data": {
      "text/html": [
       "<div>\n",
       "<style scoped>\n",
       "    .dataframe tbody tr th:only-of-type {\n",
       "        vertical-align: middle;\n",
       "    }\n",
       "\n",
       "    .dataframe tbody tr th {\n",
       "        vertical-align: top;\n",
       "    }\n",
       "\n",
       "    .dataframe thead tr th {\n",
       "        text-align: left;\n",
       "    }\n",
       "\n",
       "    .dataframe thead tr:last-of-type th {\n",
       "        text-align: right;\n",
       "    }\n",
       "</style>\n",
       "<table border=\"1\" class=\"dataframe\">\n",
       "  <thead>\n",
       "    <tr>\n",
       "      <th></th>\n",
       "      <th colspan=\"8\" halign=\"left\">conversion</th>\n",
       "    </tr>\n",
       "    <tr>\n",
       "      <th></th>\n",
       "      <th>count</th>\n",
       "      <th>mean</th>\n",
       "      <th>std</th>\n",
       "      <th>min</th>\n",
       "      <th>25%</th>\n",
       "      <th>50%</th>\n",
       "      <th>75%</th>\n",
       "      <th>max</th>\n",
       "    </tr>\n",
       "    <tr>\n",
       "      <th>test_group</th>\n",
       "      <th></th>\n",
       "      <th></th>\n",
       "      <th></th>\n",
       "      <th></th>\n",
       "      <th></th>\n",
       "      <th></th>\n",
       "      <th></th>\n",
       "      <th></th>\n",
       "    </tr>\n",
       "  </thead>\n",
       "  <tbody>\n",
       "    <tr>\n",
       "      <th>a</th>\n",
       "      <td>10013.0</td>\n",
       "      <td>0.061021</td>\n",
       "      <td>0.239380</td>\n",
       "      <td>0.0</td>\n",
       "      <td>0.0</td>\n",
       "      <td>0.0</td>\n",
       "      <td>0.0</td>\n",
       "      <td>1.0</td>\n",
       "    </tr>\n",
       "    <tr>\n",
       "      <th>b</th>\n",
       "      <td>9985.0</td>\n",
       "      <td>0.089034</td>\n",
       "      <td>0.284806</td>\n",
       "      <td>0.0</td>\n",
       "      <td>0.0</td>\n",
       "      <td>0.0</td>\n",
       "      <td>0.0</td>\n",
       "      <td>1.0</td>\n",
       "    </tr>\n",
       "  </tbody>\n",
       "</table>\n",
       "</div>"
      ],
      "text/plain": [
       "           conversion                                             \n",
       "                count      mean       std  min  25%  50%  75%  max\n",
       "test_group                                                        \n",
       "a             10013.0  0.061021  0.239380  0.0  0.0  0.0  0.0  1.0\n",
       "b              9985.0  0.089034  0.284806  0.0  0.0  0.0  0.0  1.0"
      ]
     },
     "execution_count": 8,
     "metadata": {},
     "output_type": "execute_result"
    }
   ],
   "source": [
    "b_data = pd.DataFrame(data = {'test_group': ['a']*10013 + ['b']*9985,\n",
    "                             'conversion': [1]*611 + [0]*(10013-611) + [1]*889 + [0]*(9985-889)})\n",
    "b_data.groupby('test_group').describe()"
   ]
  },
  {
   "cell_type": "code",
   "execution_count": 10,
   "id": "f2a3bcac-256b-48f6-a891-a053846af9bd",
   "metadata": {
    "tags": []
   },
   "outputs": [
    {
     "name": "stdout",
     "output_type": "stream",
     "text": [
      "t-statistic:7.53, p-value:1.0\n",
      "The difference is insagnificant, null hypotesis cannot be rejected\n"
     ]
    }
   ],
   "source": [
    "##Нуль-гіпотеза: середня конверсія в групі А та групі Б не відрізняється\n",
    "\n",
    "from scipy import stats\n",
    "\n",
    "alpha = 0.05\n",
    "\n",
    "statistic, pvalue = stats.ttest_ind(b_data[b_data['test_group']=='b']['conversion'],\n",
    "                                   b_data[b_data['test_group']=='a']['conversion'],\n",
    "                                   alternative = 'less')\n",
    "\n",
    "print(f't-statistic:{round(statistic, 2)}, p-value:{round(pvalue, 2)}')\n",
    "\n",
    "if pvalue < alpha:\n",
    "    print('The difference is statistically sagnificant, null hypotesis is rejected')\n",
    "else: print('The difference is insagnificant, null hypotesis cannot be rejected')\n",
    "\n",
    "\n",
    "##Різниця статистично незначна, а отже середня конверсія в групі А та групі Б рівна."
   ]
  },
  {
   "cell_type": "code",
   "execution_count": 11,
   "id": "ac6a33c1-5b94-4314-b301-e0bb68ee055f",
   "metadata": {
    "tags": []
   },
   "outputs": [
    {
     "name": "stdout",
     "output_type": "stream",
     "text": [
      "t-statistic: 56.14, p-value: 0.0\n",
      "The difference is statistically significant, Null Hypothesis is rejected.\n"
     ]
    }
   ],
   "source": [
    "##Нуль-гіпотеза: конверсія не залежить від групи, в якій вона знаходиться.\n",
    "\n",
    "from scipy import stats\n",
    "\n",
    "alpha = 0.05\n",
    "\n",
    "observed = pd.crosstab(b_data['test_group'].values, b_data['conversion'].values)\n",
    "statistic, pvalue, dof, expected_values = stats.chi2_contingency(observed)\n",
    "\n",
    "print(f't-statistic: {round(statistic, 2)}, p-value: {round(pvalue, 2)}')\n",
    "\n",
    "if pvalue < alpha:\n",
    "    print('The difference is statistically significant, Null Hypothesis is rejected.')\n",
    "else:\n",
    "    print('The difference is insignificant, Null Hypothesis cannot rejected.')\n",
    "    \n",
    "##Відхиляємо нуль-гіпотезу, оскільки конверсія залежить від групи. "
   ]
  },
  {
   "cell_type": "code",
   "execution_count": 13,
   "id": "4bd81c42-2e72-4909-88d9-06d80dc827d8",
   "metadata": {
    "tags": []
   },
   "outputs": [
    {
     "name": "stdout",
     "output_type": "stream",
     "text": [
      "statistic: -1.24, p-value: 0.23\n",
      "The difference is insignificant, Null Hypothesis cannot rejected.\n"
     ]
    }
   ],
   "source": [
    "##Нульова гіпотеза: дані рандомно обрані з одного розподілу.\n",
    "\n",
    "from scipy import stats\n",
    "\n",
    "def statistic(x, y):\n",
    "    return stats.ttest_ind(x, y).statistic\n",
    "\n",
    "alpha = 0.05\n",
    "    \n",
    "x = df[b_data['test_group'] == 'a']['conversion']\n",
    "y = df[b_data['test_group'] == 'b']['conversion']\n",
    "\n",
    "results = stats.permutation_test((x, y), statistic, n_resamples=9999)\n",
    "\n",
    "print(f'statistic: {round(results.statistic, 2)}, p-value: {round(results.pvalue, 2)}')\n",
    "\n",
    "if results.pvalue < alpha:\n",
    "    print('The difference is statistically significant, Null Hypothesis is rejected.')\n",
    "else:\n",
    "    print('The difference is insignificant, Null Hypothesis cannot rejected.')\n",
    "    \n",
    "##Не відкидаємо нуль-гіпотезу, дані належать до одного розподілу."
   ]
  },
  {
   "cell_type": "code",
   "execution_count": 15,
   "id": "65be78e8-da48-48bd-8cac-94641db9bd64",
   "metadata": {
    "tags": []
   },
   "outputs": [
    {
     "data": {
      "image/png": "[encoded data removed]",
      "text/plain": [
       "<Figure size 800x600 with 1 Axes>"
      ]
     },
     "metadata": {},
     "output_type": "display_data"
    }
   ],
   "source": [
    "import matplotlib.pyplot as plt\n",
    "import seaborn as sns\n",
    "\n",
    "plt.figure(figsize=(8, 6))\n",
    "sns.barplot(x=b_data['test_group'], \n",
    "            y=b_data['conversion'], \n",
    "            errorbar=('ci', 95))\n",
    "\n",
    "plt.title('A/B Test Results')\n",
    "plt.xlabel('Group')\n",
    "plt.ylabel('Mean')\n",
    "\n",
    "plt.show()\n",
    "\n",
    "##Середня конверсія групи б незначно перевищує середню конаерсію групи а."
   ]
  },
  {
   "cell_type": "code",
   "execution_count": 16,
   "id": "27e87fe9-a579-47d3-9491-5cb66a8d3f1b",
   "metadata": {
    "tags": []
   },
   "outputs": [
    {
     "name": "stdout",
     "output_type": "stream",
     "text": [
      "<class 'pandas.core.frame.DataFrame'>\n",
      "RangeIndex: 19998 entries, 0 to 19997\n",
      "Data columns (total 4 columns):\n",
      " #   Column      Non-Null Count  Dtype \n",
      "---  ------      --------------  ----- \n",
      " 0   user_id     19998 non-null  object\n",
      " 1   timestamp   19998 non-null  object\n",
      " 2   test_group  19998 non-null  object\n",
      " 3   conversion  19998 non-null  int64 \n",
      "dtypes: int64(1), object(3)\n",
      "memory usage: 625.1+ KB\n"
     ]
    }
   ],
   "source": [
    "df.info()"
   ]
  },
  {
   "cell_type": "code",
   "execution_count": 25,
   "id": "4e91c227-53c0-43d5-af1c-294df1d9776b",
   "metadata": {
    "tags": []
   },
   "outputs": [
    {
     "data": {
      "image/png": "[encoded data removed]",
      "text/plain": [
       "<Figure size 1000x600 with 1 Axes>"
      ]
     },
     "metadata": {},
     "output_type": "display_data"
    }
   ],
   "source": [
    "import matplotlib.pyplot as plt\n",
    "import seaborn as sns\n",
    "\n",
    "test_data = b_data.sample(frac=1).reset_index(drop=True)\n",
    "\n",
    "cumulative_metric_a = test_data[test_data['test_group'] == 'a']['conversion'].expanding().mean().reset_index(drop=True)\n",
    "cumulative_metric_b = test_data[test_data['test_group'] == 'b']['conversion'].expanding().mean().reset_index(drop=True)\n",
    "\n",
    "plt.figure(figsize=(10, 6))\n",
    "plt.plot(cumulative_metric_a, label='A')\n",
    "plt.plot(cumulative_metric_b, label='B')\n",
    "\n",
    "plt.title('Cumulative Сonversion Rate Comparison')\n",
    "plt.xlabel('Time')\n",
    "plt.ylabel('Cumulative Сonversion Rate')\n",
    "\n",
    "plt.legend()\n",
    "plt.show()"
   ]
  },
  {
   "cell_type": "code",
   "execution_count": null,
   "id": "f67ed527-dd9e-4dee-8972-754c68b2dc5d",
   "metadata": {},
   "outputs": [],
   "source": []
  }
 ],
 "metadata": {
  "kernelspec": {
   "display_name": "Python 3 (ipykernel)",
   "language": "python",
   "name": "python3"
  },
  "language_info": {
   "codemirror_mode": {
    "name": "ipython",
    "version": 3
   },
   "file_extension": ".py",
   "mimetype": "text/x-python",
   "name": "python",
   "nbconvert_exporter": "python",
   "pygments_lexer": "ipython3",
   "version": "3.11.5"
  }
 },
 "nbformat": 4,
 "nbformat_minor": 5
}
